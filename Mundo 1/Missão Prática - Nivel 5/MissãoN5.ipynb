{
  "nbformat": 4,
  "nbformat_minor": 0,
  "metadata": {
    "colab": {
      "provenance": [],
      "authorship_tag": "ABX9TyPmOYZIGuzeOdcjkNpK4NCq",
      "include_colab_link": true
    },
    "kernelspec": {
      "name": "python3",
      "display_name": "Python 3"
    },
    "language_info": {
      "name": "python"
    }
  },
  "cells": [
    {
      "cell_type": "markdown",
      "metadata": {
        "id": "view-in-github",
        "colab_type": "text"
      },
      "source": [
        "<a href=\"https://colab.research.google.com/github/luanguto/Full-stack-estacio/blob/main/Miss%C3%A3oN5.ipynb\" target=\"_parent\"><img src=\"https://colab.research.google.com/assets/colab-badge.svg\" alt=\"Open In Colab\"/></a>"
      ]
    },
    {
      "cell_type": "markdown",
      "source": [
        "![image.png](data:image/png;base64,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)\n",
        "\n",
        "Universidade Estácio de Sá\n",
        "\n",
        "Disciplina: Nível 5: Colocando tudo em ordem\n",
        "\n",
        "Turma : 2022.3\n",
        "\n",
        "Aluno: Luan Augusto Vieira Bandeira\n",
        "\n",
        "GitHub: https://github.com/luanguto/Full-stack-estacio/blob/main/Miss%C3%A3oN5.ipynb\n"
      ],
      "metadata": {
        "id": "tn2RheoXed9B"
      }
    },
    {
      "cell_type": "markdown",
      "source": [
        "Instalando Bibliotecas"
      ],
      "metadata": {
        "id": "cGXyU42IgoKJ"
      }
    },
    {
      "cell_type": "code",
      "source": [
        "!pip install Faker\n",
        "!pip install wordcloud\n",
        "!pip install num2words\n"
      ],
      "metadata": {
        "id": "2iEXbkkZgrb8"
      },
      "execution_count": null,
      "outputs": []
    },
    {
      "cell_type": "markdown",
      "source": [
        "Importando Bibliotecas e modulos"
      ],
      "metadata": {
        "id": "MW084XTMg5HO"
      }
    },
    {
      "cell_type": "code",
      "source": [
        "from faker import Faker\n",
        "from wordcloud import WordCloud\n",
        "from num2words import num2words\n",
        "import matplotlib.pyplot as plt\n",
        "import random"
      ],
      "metadata": {
        "id": "tyI82LPEg6i2"
      },
      "execution_count": null,
      "outputs": []
    },
    {
      "cell_type": "markdown",
      "source": [
        "Gerando dados aleatórios"
      ],
      "metadata": {
        "id": "JXqXRwc_qNkP"
      }
    },
    {
      "cell_type": "code",
      "source": [
        "from faker import Faker\n",
        "\n",
        "fake= Faker('pt_BR')\n",
        "dados_nomes = []\n",
        "dados_notas = []\n",
        "\n",
        "for i in range(20):\n",
        "  nome = fake.name()\n",
        "  nota = fake.random_int(1,10)\n",
        "  print(nome, ',' ,nota)\n",
        "  dados_nomes.append(nome)\n",
        "  dados_notas.append(str(nota))\n",
        "\n",
        "dados = dados_nomes + dados_notas"
      ],
      "metadata": {
        "colab": {
          "base_uri": "https://localhost:8080/"
        },
        "id": "x-OieZYxqPZZ",
        "outputId": "a73f0d02-2464-41e4-8091-876920a33ac4"
      },
      "execution_count": null,
      "outputs": [
        {
          "output_type": "stream",
          "name": "stdout",
          "text": [
            "Ian da Mota , 4\n",
            "Danilo da Cunha , 2\n",
            "Valentina Cunha , 8\n",
            "Isabelly Moura , 8\n",
            "Gabriela Monteiro , 3\n",
            "Luiz Henrique das Neves , 8\n",
            "Leandro Moraes , 3\n",
            "Sra. Fernanda Mendes , 10\n",
            "Paulo Santos , 10\n",
            "Sr. Luiz Gustavo Cunha , 8\n",
            "Evelyn Viana , 8\n",
            "Vinicius Moraes , 7\n",
            "Emanuella Ferreira , 2\n",
            "Pedro Lucas Sales , 3\n",
            "Cecília Campos , 10\n",
            "Gustavo Henrique Cavalcanti , 3\n",
            "João Lucas Rezende , 6\n",
            "Olivia Dias , 5\n",
            "Sarah Pereira , 2\n",
            "Alice Cunha , 3\n"
          ]
        }
      ]
    },
    {
      "cell_type": "markdown",
      "source": [
        "Salvando os arquivos"
      ],
      "metadata": {
        "id": "E_Dl9dn7DJDJ"
      }
    },
    {
      "cell_type": "code",
      "source": [
        "with open(\"lista.txt\",\"a\") as output:\n",
        "  output.writelines(','.join(dados))"
      ],
      "metadata": {
        "id": "iFC2fp7dDIbg"
      },
      "execution_count": null,
      "outputs": []
    },
    {
      "cell_type": "markdown",
      "source": [
        "Abrindo o arquivo"
      ],
      "metadata": {
        "id": "biFYMovgu6iR"
      }
    },
    {
      "cell_type": "code",
      "source": [
        "dados_salvos = open('lista.txt')\n",
        "dados_salvos = dados_salvos.read()\n",
        "output = dados_salvos.split(',')\n",
        "nomes = output[0:20]\n",
        "notas = [int(item) for item in (output[20:41])]\n",
        "\n",
        "print(dados)\n"
      ],
      "metadata": {
        "colab": {
          "base_uri": "https://localhost:8080/"
        },
        "id": "nU7Twi3Zu8g5",
        "outputId": "344faf46-a76e-431b-9b2c-0a0ef36951dd"
      },
      "execution_count": null,
      "outputs": [
        {
          "output_type": "stream",
          "name": "stdout",
          "text": [
            "['Ian da Mota', 'Danilo da Cunha', 'Valentina Cunha', 'Isabelly Moura', 'Gabriela Monteiro', 'Luiz Henrique das Neves', 'Leandro Moraes', 'Sra. Fernanda Mendes', 'Paulo Santos', 'Sr. Luiz Gustavo Cunha', 'Evelyn Viana', 'Vinicius Moraes', 'Emanuella Ferreira', 'Pedro Lucas Sales', 'Cecília Campos', 'Gustavo Henrique Cavalcanti', 'João Lucas Rezende', 'Olivia Dias', 'Sarah Pereira', 'Alice Cunha', '4', '2', '8', '8', '3', '8', '3', '10', '10', '8', '8', '7', '2', '3', '10', '3', '6', '5', '2', '3']\n"
          ]
        }
      ]
    },
    {
      "cell_type": "markdown",
      "source": [
        "Histograma"
      ],
      "metadata": {
        "id": "icY4T4PZFvLh"
      }
    },
    {
      "cell_type": "code",
      "source": [
        "import matplotlib.pyplot as plt\n",
        "\n",
        "numeros = [ (num2words(n, lang='pt-br')) for n in notas]\n",
        "\n",
        "\n",
        "plt.title('Histograma das Notas')\n",
        "plt.xlabel('Notas')\n",
        "plt.ylabel('Frequência')\n",
        "plt.grid(True)\n",
        "plt.hist(notas, bins = 5, facecolor = 'blue',  alpha = 0.75);\n",
        "plt.show()\n",
        "\n"
      ],
      "metadata": {
        "colab": {
          "base_uri": "https://localhost:8080/",
          "height": 295
        },
        "id": "lVO-RKgHFwfm",
        "outputId": "5a77988f-404c-40e9-e96b-fd8cc7193c34"
      },
      "execution_count": 85,
      "outputs": [
        {
          "output_type": "display_data",
          "data": {
            "text/plain": [
              "<Figure size 432x288 with 1 Axes>"
            ],
            "image/png": "[encoded data removed]"
          },
          "metadata": {
            "needs_background": "light"
          }
        }
      ]
    },
    {
      "cell_type": "markdown",
      "source": [
        "Nuvem de palavras"
      ],
      "metadata": {
        "id": "cYjuJH2vckZN"
      }
    },
    {
      "cell_type": "code",
      "source": [
        "from wordcloud import wordcloud\n",
        "\n",
        "listas = ','.join([n for n in numeros])\n",
        "wc = WordCloud (background_color = 'black', width = 1000, height= 1000).generate(listas)\n",
        "\n",
        "plt.imshow(wc, interpolation='bilinear')\n",
        "plt.axis('off')\n",
        "wc.to_file('wc.png')\n"
      ],
      "metadata": {
        "colab": {
          "base_uri": "https://localhost:8080/",
          "height": 265
        },
        "id": "Sxs1YgLDMhiA",
        "outputId": "c34b274a-95f8-4236-c5a3-56ee5126dff0"
      },
      "execution_count": 87,
      "outputs": [
        {
          "output_type": "execute_result",
          "data": {
            "text/plain": [
              "<wordcloud.wordcloud.WordCloud at 0x7effe3e338d0>"
            ]
          },
          "metadata": {},
          "execution_count": 87
        },
        {
          "output_type": "display_data",
          "data": {
            "text/plain": [
              "<Figure size 432x288 with 1 Axes>"
            ],
            "image/png": "[encoded data removed]"
          },
          "metadata": {
            "needs_background": "light"
          }
        }
      ]
    },
    {
      "cell_type": "markdown",
      "source": [
        "Relatório:\n",
        "\n",
        "\n",
        "**Qual a importância de manipular arquivos de texto?**\n",
        "\n",
        "A manipulação de arquivos de texto é de suma importancia para poder criar uma base de dados como foi feito acima com nomes e notas.\n",
        "\n",
        "**Qual a importância de visualizar os dados em um histograma?**\n",
        "\n",
        "É importante visualizar os dados em um histograma, pois, em um histograma você pode resumir grandes conjuntos de dados de forma visual e comparar rapidamente os resultados.\n",
        "\n",
        "\n",
        "**O que significa a visualização por nuvem de palavras?**\n",
        "\n",
        "O wordClouds são representações visuais de palavras que dão maior destaque às palavras que aparecem com mais frequência.\n",
        "\n"
      ],
      "metadata": {
        "id": "wsC83c6nf6LP"
      }
    }
  ]
}